{
 "cells": [
  {
   "cell_type": "code",
   "execution_count": 76,
   "metadata": {},
   "outputs": [],
   "source": [
    "import requests\n",
    "import urllib.request \n",
    "from bs4 import BeautifulSoup\n",
    "import re\n",
    "import os\n",
    "from time import sleep"
   ]
  },
  {
   "cell_type": "code",
   "execution_count": 36,
   "metadata": {},
   "outputs": [
    {
     "name": "stdout",
     "output_type": "stream",
     "text": [
      "https://www.formula1.com/en/latest/article/what-the-teams-said-friday-practice-in-imola.6rs8OdlvMQhbU25JsOFfUL\n",
      "https://www.formula1.com/en/latest/article/practice-debrief-do-on-form-ferrari-really-have-red-bull-on-the-back-foot-at.70308gk49WiRFEIYiJFobJ\n",
      "https://www.formula1.com/en/latest/article/watch-ride-onboard-with-leclerc-for-the-fastest-lap-of-friday-practice-at.32PCAKzdp2cpURnkAmpH3m\n",
      "https://www.formula1.com/en/latest/article/f2-bortoleto-takes-last-gasp-pole-position-ahead-of-bearman-in-imola.7iuwlvDheYMLpMyZdeYlk0\n",
      "https://www.formula1.com/en/latest/article/leclerc-praises-performance-of-ferrari-upgrades-as-he-prepares-for-super.2CvdjpeOPVJa9ooUimEOv9\n",
      "https://www.formula1.com/en/latest/article/piastri-reckons-mclaren-definitely-in-the-fight-at-imola-as-they-look-to.6R2eBr3fAcWnte2dqaaR7N\n"
     ]
    }
   ],
   "source": [
    "main_page = 'https://www.formula1.com/en/latest/all'\n",
    "main_page_content = urllib.request.urlopen(main_page)\n",
    "\n",
    "soup = BeautifulSoup(main_page_content, 'html.parser')\n",
    "\n",
    "news_box = soup.find('ul', attrs={'id': 'article-list'})\n",
    "\n",
    "links = news_box.find_all('a')\n",
    "for a in links:\n",
    "    print(a['href'])"
   ]
  },
  {
   "cell_type": "code",
   "execution_count": 78,
   "metadata": {},
   "outputs": [],
   "source": [
    "def get_article_contents(link):\n",
    "    sleep(1) # Assure no more than 1 request will be made per second\n",
    "    page_content = urllib.request.urlopen(link)\n",
    "    soup = BeautifulSoup(page_content, 'html.parser')\n",
    "\n",
    "    title = soup.find('title')\n",
    "    filename = os.path.join(os.getcwd(), 'news', re.sub('[^A-Za-z0-9]+', '-', title.text)+'.txt')\n",
    "\n",
    "    if os.path.isfile(filename):\n",
    "        print('file already downloaded')\n",
    "        return\n",
    "    \n",
    "    paragraphs = soup.find_all('p', attrs={\"class\":None})\n",
    "\n",
    "    with open(filename, \"a\") as f:\n",
    "        for p in paragraphs:\n",
    "            f.write(p.text)\n",
    "            f.write('\\n')\n",
    "                      \n",
    "\n"
   ]
  },
  {
   "cell_type": "code",
   "execution_count": 79,
   "metadata": {},
   "outputs": [
    {
     "name": "stdout",
     "output_type": "stream",
     "text": [
      "file already downloaded\n",
      "file already downloaded\n",
      "file already downloaded\n",
      "file already downloaded\n",
      "file already downloaded\n",
      "file already downloaded\n"
     ]
    }
   ],
   "source": [
    "for link in links:\n",
    "    get_article_contents(link['href'])"
   ]
  },
  {
   "cell_type": "code",
   "execution_count": null,
   "metadata": {},
   "outputs": [],
   "source": []
  }
 ],
 "metadata": {
  "kernelspec": {
   "display_name": "ollama-langchain",
   "language": "python",
   "name": "python3"
  },
  "language_info": {
   "codemirror_mode": {
    "name": "ipython",
    "version": 3
   },
   "file_extension": ".py",
   "mimetype": "text/x-python",
   "name": "python",
   "nbconvert_exporter": "python",
   "pygments_lexer": "ipython3",
   "version": "3.10.14"
  }
 },
 "nbformat": 4,
 "nbformat_minor": 2
}
